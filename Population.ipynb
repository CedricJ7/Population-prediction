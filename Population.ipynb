{
 "cells": [
  {
   "cell_type": "markdown",
   "id": "4cb82b02-bfb7-4690-ab18-4843a44bed22",
   "metadata": {},
   "source": [
    "Source : https://databank.worldbank.org/source/world-development-indicators\n",
    "Prédiction de la population"
   ]
  },
  {
   "cell_type": "code",
   "execution_count": 15,
   "id": "e8cbfde5-2e3d-43f1-bd89-f7187c7a7745",
   "metadata": {},
   "outputs": [
    {
     "ename": "SyntaxError",
     "evalue": "invalid syntax (3171425602.py, line 16)",
     "output_type": "error",
     "traceback": [
      "\u001b[1;36m  Cell \u001b[1;32mIn[15], line 16\u001b[1;36m\u001b[0m\n\u001b[1;33m    data.rename(col:col[0:4])\u001b[0m\n\u001b[1;37m                   ^\u001b[0m\n\u001b[1;31mSyntaxError\u001b[0m\u001b[1;31m:\u001b[0m invalid syntax\n"
     ]
    }
   ],
   "source": [
    "import pandas as pd\n",
    "# InteractiveShell.ast_node_interactivity = \"all\"\n",
    "\n",
    "\n",
    "data = pd.read_csv(\"pop_1960_2023.csv\")\n",
    "\n",
    "data = data.drop([\"Series Code\"], axis=1)\n",
    "\n",
    "# utiliser missMDA pour gérer les Nan\n",
    "\n",
    "# Utiliser pandas.melt  pour remettre\n",
    "# pandas.lreshape(data, groups, dropna=True)\n",
    "# pandas.pivot(data, *, columns, index=<no_default>, values=<no_default>)\n",
    "for col in data.columns:\n",
    "    if col[0].isnumeric():\n",
    "        data.rename(col:col[0:4])\n",
    "print(data.columns)\n",
    "# data = pd.lreshape()"
   ]
  },
  {
   "cell_type": "markdown",
   "id": "f96a48c6-4768-4ce6-9d74-b20274389054",
   "metadata": {},
   "source": [
    "#Gérer les NaN avec missMDA ...\n"
   ]
  }
 ],
 "metadata": {
  "kernelspec": {
   "display_name": "Python 3",
   "language": "python",
   "name": "python3"
  },
  "language_info": {
   "codemirror_mode": {
    "name": "ipython",
    "version": 3
   },
   "file_extension": ".py",
   "mimetype": "text/x-python",
   "name": "python",
   "nbconvert_exporter": "python",
   "pygments_lexer": "ipython3",
   "version": "3.12.9"
  }
 },
 "nbformat": 4,
 "nbformat_minor": 5
}
